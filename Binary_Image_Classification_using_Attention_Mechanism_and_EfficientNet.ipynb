{
  "nbformat": 4,
  "nbformat_minor": 0,
  "metadata": {
    "colab": {
      "provenance": [],
      "include_colab_link": true
    },
    "kernelspec": {
      "name": "python3",
      "display_name": "Python 3"
    },
    "language_info": {
      "name": "python"
    }
  },
  "cells": [
    {
      "cell_type": "markdown",
      "metadata": {
        "id": "view-in-github",
        "colab_type": "text"
      },
      "source": [
        "<a href=\"https://colab.research.google.com/github/monokrrome/Binary-Image-Classification-using-Attention-Mechanism-and-EfficientNet/blob/main/Binary_Image_Classification_using_Attention_Mechanism_and_EfficientNet.ipynb\" target=\"_parent\"><img src=\"https://colab.research.google.com/assets/colab-badge.svg\" alt=\"Open In Colab\"/></a>"
      ]
    },
    {
      "cell_type": "markdown",
      "source": [
        "## **Binary Classification of Uterine Fibroid tumor images using fine tuning with EfficientNetB0 and Attention Mechanism**"
      ],
      "metadata": {
        "id": "-3XRC0xrP4S-"
      }
    },
    {
      "cell_type": "markdown",
      "source": [
        "### **Introduction**\n",
        "\n",
        "EfficientNet is a convolutional neural network architecture designed to optimize both accuracy and efficiency. It was introduced by researchers at Google AI in 2019. The key idea behind EfficientNet is to scale the network's depth, width, and resolution simultaneously to achieve better performance without significantly increasing computational cost.\n",
        "\n",
        "\n",
        "EfficientNet uses a compound scaling method that uniformly scales the network dimensions (depth, width, and resolution) by a fixed ratio. This approach ensures that the model is well-balanced and efficient across different scales.\n",
        "\n",
        "\n",
        "EfficientNet-B0 specifically refers to the baseline model in the EfficientNet family. It has relatively fewer parameters compared to larger variants like EfficientNet-B1, B2, etc., making it suitable for tasks where computational resources are limited, such as on mobile devices or edge devices.\n",
        "\n",
        "\n",
        "EfficientNet-B0 is trained with the same scaling method as other variants but starts with a smaller baseline architecture. It achieves a good balance between computational cost and accuracy, making it a popular choice for various computer vision tasks.\n",
        "\n",
        "\n",
        "\"An attention mechanism is an Encoder-Decoder kind of neural network architecture that allows the model to focus on specific sections of the input while executing a task. It dynamically assigns weights to different elements in the input, indicating their relative importance or relevance. By incorporating attention, the model can selectively attend to and process the most relevant information, capturing dependencies and relationships within the data.\" (via GeeksforGeeks)"
      ],
      "metadata": {
        "id": "Zqbeidk6QKNY"
      }
    },
    {
      "cell_type": "markdown",
      "source": [
        "### **Technical Approach**\n",
        "\n",
        "By referring to ‘Image classification via fine-tuning with EfficientNet’ by Yixing Fu provided by the official Keras github repository and documentation, I planned to do a keras implementation of EfficientNet on custom uterus fibroid dataset.\n",
        "This model takes input images of shape (224, 224, 3), and the input data should be in the range [0, 255]. Normalization is included as part of the model.\n",
        "\n",
        "\n",
        "Because training EfficientNet on ImageNet takes a tremendous amount of resources and several techniques that are not a part of the model architecture itself. Hence the Keras implementation by default loads pre-trained weights obtained via training with AutoAugment.\n",
        "\n",
        "\n",
        "For B0 to B7 base models, the input shapes are different. Here is a list of input shape expected for each model:\n",
        "\n",
        "\n",
        "**Base model - resolution**\n",
        "\n",
        "EfficientNetB0 - 224\n",
        "\n",
        "EfficientNetB1 - 240\n",
        "\n",
        "EfficientNetB2 - 260\n",
        "\n",
        "EfficientNetB3 - 300\n",
        "\n",
        "EfficientNetB4 - 380\n",
        "\n",
        "EfficientNetB5 - 456\n",
        "\n",
        "EfficientNetB6 - 528\n",
        "\n",
        "EfficientNetB7 - 600\n",
        "\n",
        "When the model is intended for transfer learning, the Keras implementation provides a option to remove the top layers:\n",
        "model = EfficientNetB0(include_top=False, weights='imagenet')\n"
      ],
      "metadata": {
        "id": "Ga-MExBNQgHd"
      }
    },
    {
      "cell_type": "markdown",
      "source": [
        "#### **Self Attention Mechanism**\n",
        "\n",
        "-The self-attention mechanism is added directly after the base model's\n",
        "output.\n",
        "\n",
        "-The attention weights are used to scale the features extracted by the base model.\n",
        "\n",
        "-The model outputs these scaled features instead of applying additional layers for classification.\n",
        "\n",
        "-The model is compiled and trained using the extracted features.\n"
      ],
      "metadata": {
        "id": "qqlyVq_btNei"
      }
    },
    {
      "cell_type": "markdown",
      "source": [
        "#### **Installing and importing Necessary Libraries**\n",
        "\n"
      ],
      "metadata": {
        "id": "OkX8jGUQRlEe"
      }
    },
    {
      "cell_type": "code",
      "source": [
        "!pip install opencv-python\n",
        "!pip install tensorflow_hub"
      ],
      "metadata": {
        "colab": {
          "base_uri": "https://localhost:8080/"
        },
        "id": "JYxlkHLh11E3",
        "outputId": "da9e4aef-8cd4-47d2-faec-194b097230f8"
      },
      "execution_count": 2,
      "outputs": [
        {
          "output_type": "stream",
          "name": "stdout",
          "text": [
            "Requirement already satisfied: opencv-python in /usr/local/lib/python3.10/dist-packages (4.8.0.76)\n",
            "Requirement already satisfied: numpy>=1.21.2 in /usr/local/lib/python3.10/dist-packages (from opencv-python) (1.25.2)\n",
            "Requirement already satisfied: tensorflow_hub in /usr/local/lib/python3.10/dist-packages (0.16.1)\n",
            "Requirement already satisfied: numpy>=1.12.0 in /usr/local/lib/python3.10/dist-packages (from tensorflow_hub) (1.25.2)\n",
            "Requirement already satisfied: protobuf>=3.19.6 in /usr/local/lib/python3.10/dist-packages (from tensorflow_hub) (3.20.3)\n",
            "Requirement already satisfied: tf-keras>=2.14.1 in /usr/local/lib/python3.10/dist-packages (from tensorflow_hub) (2.15.1)\n",
            "Requirement already satisfied: tensorflow<2.16,>=2.15 in /usr/local/lib/python3.10/dist-packages (from tf-keras>=2.14.1->tensorflow_hub) (2.15.0)\n",
            "Requirement already satisfied: absl-py>=1.0.0 in /usr/local/lib/python3.10/dist-packages (from tensorflow<2.16,>=2.15->tf-keras>=2.14.1->tensorflow_hub) (1.4.0)\n",
            "Requirement already satisfied: astunparse>=1.6.0 in /usr/local/lib/python3.10/dist-packages (from tensorflow<2.16,>=2.15->tf-keras>=2.14.1->tensorflow_hub) (1.6.3)\n",
            "Requirement already satisfied: flatbuffers>=23.5.26 in /usr/local/lib/python3.10/dist-packages (from tensorflow<2.16,>=2.15->tf-keras>=2.14.1->tensorflow_hub) (24.3.25)\n",
            "Requirement already satisfied: gast!=0.5.0,!=0.5.1,!=0.5.2,>=0.2.1 in /usr/local/lib/python3.10/dist-packages (from tensorflow<2.16,>=2.15->tf-keras>=2.14.1->tensorflow_hub) (0.5.4)\n",
            "Requirement already satisfied: google-pasta>=0.1.1 in /usr/local/lib/python3.10/dist-packages (from tensorflow<2.16,>=2.15->tf-keras>=2.14.1->tensorflow_hub) (0.2.0)\n",
            "Requirement already satisfied: h5py>=2.9.0 in /usr/local/lib/python3.10/dist-packages (from tensorflow<2.16,>=2.15->tf-keras>=2.14.1->tensorflow_hub) (3.9.0)\n",
            "Requirement already satisfied: libclang>=13.0.0 in /usr/local/lib/python3.10/dist-packages (from tensorflow<2.16,>=2.15->tf-keras>=2.14.1->tensorflow_hub) (18.1.1)\n",
            "Requirement already satisfied: ml-dtypes~=0.2.0 in /usr/local/lib/python3.10/dist-packages (from tensorflow<2.16,>=2.15->tf-keras>=2.14.1->tensorflow_hub) (0.2.0)\n",
            "Requirement already satisfied: opt-einsum>=2.3.2 in /usr/local/lib/python3.10/dist-packages (from tensorflow<2.16,>=2.15->tf-keras>=2.14.1->tensorflow_hub) (3.3.0)\n",
            "Requirement already satisfied: packaging in /usr/local/lib/python3.10/dist-packages (from tensorflow<2.16,>=2.15->tf-keras>=2.14.1->tensorflow_hub) (24.0)\n",
            "Requirement already satisfied: setuptools in /usr/local/lib/python3.10/dist-packages (from tensorflow<2.16,>=2.15->tf-keras>=2.14.1->tensorflow_hub) (67.7.2)\n",
            "Requirement already satisfied: six>=1.12.0 in /usr/local/lib/python3.10/dist-packages (from tensorflow<2.16,>=2.15->tf-keras>=2.14.1->tensorflow_hub) (1.16.0)\n",
            "Requirement already satisfied: termcolor>=1.1.0 in /usr/local/lib/python3.10/dist-packages (from tensorflow<2.16,>=2.15->tf-keras>=2.14.1->tensorflow_hub) (2.4.0)\n",
            "Requirement already satisfied: typing-extensions>=3.6.6 in /usr/local/lib/python3.10/dist-packages (from tensorflow<2.16,>=2.15->tf-keras>=2.14.1->tensorflow_hub) (4.10.0)\n",
            "Requirement already satisfied: wrapt<1.15,>=1.11.0 in /usr/local/lib/python3.10/dist-packages (from tensorflow<2.16,>=2.15->tf-keras>=2.14.1->tensorflow_hub) (1.14.1)\n",
            "Requirement already satisfied: tensorflow-io-gcs-filesystem>=0.23.1 in /usr/local/lib/python3.10/dist-packages (from tensorflow<2.16,>=2.15->tf-keras>=2.14.1->tensorflow_hub) (0.36.0)\n",
            "Requirement already satisfied: grpcio<2.0,>=1.24.3 in /usr/local/lib/python3.10/dist-packages (from tensorflow<2.16,>=2.15->tf-keras>=2.14.1->tensorflow_hub) (1.62.1)\n",
            "Requirement already satisfied: tensorboard<2.16,>=2.15 in /usr/local/lib/python3.10/dist-packages (from tensorflow<2.16,>=2.15->tf-keras>=2.14.1->tensorflow_hub) (2.15.2)\n",
            "Requirement already satisfied: tensorflow-estimator<2.16,>=2.15.0 in /usr/local/lib/python3.10/dist-packages (from tensorflow<2.16,>=2.15->tf-keras>=2.14.1->tensorflow_hub) (2.15.0)\n",
            "Requirement already satisfied: keras<2.16,>=2.15.0 in /usr/local/lib/python3.10/dist-packages (from tensorflow<2.16,>=2.15->tf-keras>=2.14.1->tensorflow_hub) (2.15.0)\n",
            "Requirement already satisfied: wheel<1.0,>=0.23.0 in /usr/local/lib/python3.10/dist-packages (from astunparse>=1.6.0->tensorflow<2.16,>=2.15->tf-keras>=2.14.1->tensorflow_hub) (0.43.0)\n",
            "Requirement already satisfied: google-auth<3,>=1.6.3 in /usr/local/lib/python3.10/dist-packages (from tensorboard<2.16,>=2.15->tensorflow<2.16,>=2.15->tf-keras>=2.14.1->tensorflow_hub) (2.27.0)\n",
            "Requirement already satisfied: google-auth-oauthlib<2,>=0.5 in /usr/local/lib/python3.10/dist-packages (from tensorboard<2.16,>=2.15->tensorflow<2.16,>=2.15->tf-keras>=2.14.1->tensorflow_hub) (1.2.0)\n",
            "Requirement already satisfied: markdown>=2.6.8 in /usr/local/lib/python3.10/dist-packages (from tensorboard<2.16,>=2.15->tensorflow<2.16,>=2.15->tf-keras>=2.14.1->tensorflow_hub) (3.6)\n",
            "Requirement already satisfied: requests<3,>=2.21.0 in /usr/local/lib/python3.10/dist-packages (from tensorboard<2.16,>=2.15->tensorflow<2.16,>=2.15->tf-keras>=2.14.1->tensorflow_hub) (2.31.0)\n",
            "Requirement already satisfied: tensorboard-data-server<0.8.0,>=0.7.0 in /usr/local/lib/python3.10/dist-packages (from tensorboard<2.16,>=2.15->tensorflow<2.16,>=2.15->tf-keras>=2.14.1->tensorflow_hub) (0.7.2)\n",
            "Requirement already satisfied: werkzeug>=1.0.1 in /usr/local/lib/python3.10/dist-packages (from tensorboard<2.16,>=2.15->tensorflow<2.16,>=2.15->tf-keras>=2.14.1->tensorflow_hub) (3.0.1)\n",
            "Requirement already satisfied: cachetools<6.0,>=2.0.0 in /usr/local/lib/python3.10/dist-packages (from google-auth<3,>=1.6.3->tensorboard<2.16,>=2.15->tensorflow<2.16,>=2.15->tf-keras>=2.14.1->tensorflow_hub) (5.3.3)\n",
            "Requirement already satisfied: pyasn1-modules>=0.2.1 in /usr/local/lib/python3.10/dist-packages (from google-auth<3,>=1.6.3->tensorboard<2.16,>=2.15->tensorflow<2.16,>=2.15->tf-keras>=2.14.1->tensorflow_hub) (0.4.0)\n",
            "Requirement already satisfied: rsa<5,>=3.1.4 in /usr/local/lib/python3.10/dist-packages (from google-auth<3,>=1.6.3->tensorboard<2.16,>=2.15->tensorflow<2.16,>=2.15->tf-keras>=2.14.1->tensorflow_hub) (4.9)\n",
            "Requirement already satisfied: requests-oauthlib>=0.7.0 in /usr/local/lib/python3.10/dist-packages (from google-auth-oauthlib<2,>=0.5->tensorboard<2.16,>=2.15->tensorflow<2.16,>=2.15->tf-keras>=2.14.1->tensorflow_hub) (1.4.1)\n",
            "Requirement already satisfied: charset-normalizer<4,>=2 in /usr/local/lib/python3.10/dist-packages (from requests<3,>=2.21.0->tensorboard<2.16,>=2.15->tensorflow<2.16,>=2.15->tf-keras>=2.14.1->tensorflow_hub) (3.3.2)\n",
            "Requirement already satisfied: idna<4,>=2.5 in /usr/local/lib/python3.10/dist-packages (from requests<3,>=2.21.0->tensorboard<2.16,>=2.15->tensorflow<2.16,>=2.15->tf-keras>=2.14.1->tensorflow_hub) (3.6)\n",
            "Requirement already satisfied: urllib3<3,>=1.21.1 in /usr/local/lib/python3.10/dist-packages (from requests<3,>=2.21.0->tensorboard<2.16,>=2.15->tensorflow<2.16,>=2.15->tf-keras>=2.14.1->tensorflow_hub) (2.0.7)\n",
            "Requirement already satisfied: certifi>=2017.4.17 in /usr/local/lib/python3.10/dist-packages (from requests<3,>=2.21.0->tensorboard<2.16,>=2.15->tensorflow<2.16,>=2.15->tf-keras>=2.14.1->tensorflow_hub) (2024.2.2)\n",
            "Requirement already satisfied: MarkupSafe>=2.1.1 in /usr/local/lib/python3.10/dist-packages (from werkzeug>=1.0.1->tensorboard<2.16,>=2.15->tensorflow<2.16,>=2.15->tf-keras>=2.14.1->tensorflow_hub) (2.1.5)\n",
            "Requirement already satisfied: pyasn1<0.7.0,>=0.4.6 in /usr/local/lib/python3.10/dist-packages (from pyasn1-modules>=0.2.1->google-auth<3,>=1.6.3->tensorboard<2.16,>=2.15->tensorflow<2.16,>=2.15->tf-keras>=2.14.1->tensorflow_hub) (0.6.0)\n",
            "Requirement already satisfied: oauthlib>=3.0.0 in /usr/local/lib/python3.10/dist-packages (from requests-oauthlib>=0.7.0->google-auth-oauthlib<2,>=0.5->tensorboard<2.16,>=2.15->tensorflow<2.16,>=2.15->tf-keras>=2.14.1->tensorflow_hub) (3.2.2)\n"
          ]
        }
      ]
    },
    {
      "cell_type": "code",
      "source": [
        "import os\n",
        "import numpy as np\n",
        "import tensorflow as tf\n",
        "import matplotlib.pyplot as plt\n",
        "import cv2\n",
        "import glob\n",
        "from keras import layers\n",
        "from keras.applications import EfficientNetB0"
      ],
      "metadata": {
        "id": "jziei0hSTqWV"
      },
      "execution_count": 3,
      "outputs": []
    },
    {
      "cell_type": "markdown",
      "source": [
        "####**Loading Data**\n",
        "\n",
        "We are loading data from our custom dataset stored on google drive. The dataset contains 1990 photos belonging to two classes - NUF(Non-Uterine Fibroid) and UF(Uterine Fibroid) – (1594 for training and 396 files for testing)."
      ],
      "metadata": {
        "id": "hDY8X6E_RvPY"
      }
    },
    {
      "cell_type": "code",
      "source": [
        "from google.colab import drive\n",
        "drive.mount('/content/drive')"
      ],
      "metadata": {
        "id": "VlH9hLCO2G8T",
        "colab": {
          "base_uri": "https://localhost:8080/"
        },
        "outputId": "74ee71bc-6d8a-4c22-fbf8-7e6a2c59ffad"
      },
      "execution_count": 4,
      "outputs": [
        {
          "output_type": "stream",
          "name": "stdout",
          "text": [
            "Mounted at /content/drive\n"
          ]
        }
      ]
    },
    {
      "cell_type": "code",
      "source": [
        "# Define the path to your dataset directory\n",
        "train_data_dir = '/content/drive/MyDrive/datasets/train'\n",
        "test_data_dir = '/content/drive/MyDrive/datasets/test'"
      ],
      "metadata": {
        "id": "P4l66M-EUFSm"
      },
      "execution_count": 5,
      "outputs": []
    },
    {
      "cell_type": "markdown",
      "source": [
        "**Data Preprocessing and Data Augmentation**"
      ],
      "metadata": {
        "id": "-biImReIUJoY"
      }
    },
    {
      "cell_type": "code",
      "source": [
        "# Define the number of classes\n",
        "NUM_CLASSES = 2  # Non-uterine fibroid and uterine fibroid\n",
        "\n",
        "# Define image size\n",
        "IMG_SIZE = 224\n",
        "\n",
        "# Define batch size\n",
        "BATCH_SIZE = 64\n",
        "\n",
        "# Define data augmentation and preprocessing functions\n",
        "img_augmentation = tf.keras.Sequential([\n",
        "    layers.RandomRotation(factor=0.15),\n",
        "    layers.RandomTranslation(height_factor=0.1, width_factor=0.1),\n",
        "    layers.RandomFlip(),\n",
        "    layers.RandomContrast(factor=0.1),\n",
        "])\n",
        "\n",
        "def preprocess_image(image_path):\n",
        "    # Read and decode the image\n",
        "    image = tf.io.read_file(image_path)\n",
        "    image = tf.image.decode_jpeg(image, channels=3)\n",
        "    # Resize the image\n",
        "    image = tf.image.resize(image, (IMG_SIZE, IMG_SIZE))\n",
        "    image = tf.keras.applications.efficientnet.preprocess_input(image)\n",
        "    return image\n",
        "\n",
        "def preprocess_label(image_path, label):\n",
        "    # Convert label to integer (0 or 1)\n",
        "    label = tf.cast(label, tf.int32)\n",
        "    # Convert label to one-hot encoding\n",
        "    return preprocess_image(image_path), tf.one_hot(label, NUM_CLASSES)"
      ],
      "metadata": {
        "id": "O86igt96UUPi"
      },
      "execution_count": 6,
      "outputs": []
    },
    {
      "cell_type": "markdown",
      "source": [
        "**Prepare Input**"
      ],
      "metadata": {
        "id": "5kZvSvPUVLjI"
      }
    },
    {
      "cell_type": "code",
      "source": [
        "# Prepare train dataset\n",
        "train_dataset = tf.data.Dataset.list_files(train_data_dir + '/*/*.jpg')\n",
        "train_dataset = train_dataset.map(lambda x: (x, tf.strings.split(x, os.path.sep)[-2] == 'uf'))\n",
        "train_dataset = train_dataset.map(lambda x, y: preprocess_label(x, y))  # Preprocess both image and label\n",
        "train_dataset = train_dataset.map(lambda x, y: (img_augmentation(x), y))\n",
        "train_dataset = train_dataset.batch(BATCH_SIZE)\n",
        "\n",
        "# Prepare test dataset\n",
        "test_dataset = tf.data.Dataset.list_files(test_data_dir + '/*/*.jpg')\n",
        "test_dataset = test_dataset.map(lambda x: (x, tf.strings.split(x, os.path.sep)[-2] == 'uf'))\n",
        "test_dataset = test_dataset.map(lambda x, y: preprocess_label(x, y))  # Preprocess both image and label\n",
        "test_dataset = test_dataset.batch(BATCH_SIZE)"
      ],
      "metadata": {
        "id": "AePruN9kVPF5"
      },
      "execution_count": 7,
      "outputs": []
    },
    {
      "cell_type": "markdown",
      "source": [
        "**Building the Model**"
      ],
      "metadata": {
        "id": "NsDZplNzVVmS"
      }
    },
    {
      "cell_type": "code",
      "source": [
        "# Load EfficientNet with pre-trained ImageNet weights\n",
        "base_model = EfficientNetB0(include_top=False, weights='imagenet', input_shape=(IMG_SIZE, IMG_SIZE, 3))\n",
        "\n",
        "# Add self-attention mechanism\n",
        "# Define the model architecture\n",
        "inputs = tf.keras.Input(shape=(IMG_SIZE, IMG_SIZE, 3))\n",
        "x = base_model(inputs, training=False)  # Extract features from the base model\n",
        "attention_probs = layers.Dense(1, activation='softmax')(x)\n",
        "attention_mul = layers.Multiply()([x, attention_probs])\n",
        "features = tf.keras.layers.GlobalAveragePooling2D()(attention_mul)\n",
        "outputs = layers.Dense(NUM_CLASSES, activation='softmax')(features)  # Classification layer\n",
        "\n",
        "# Build the model\n",
        "model = tf.keras.Model(inputs, outputs)\n",
        "\n",
        "# Compile the model\n",
        "optimizer = tf.keras.optimizers.Nadam(learning_rate=0.000001)\n",
        "model.compile(optimizer=optimizer, loss='categorical_crossentropy', metrics=['accuracy'])"
      ],
      "metadata": {
        "colab": {
          "base_uri": "https://localhost:8080/"
        },
        "id": "Pp7UX2hZVaEb",
        "outputId": "f1701c99-098f-4dee-cb6c-ab73f7bdd3ec"
      },
      "execution_count": 8,
      "outputs": [
        {
          "output_type": "stream",
          "name": "stdout",
          "text": [
            "Downloading data from https://storage.googleapis.com/keras-applications/efficientnetb0_notop.h5\n",
            "16705208/16705208 [==============================] - 1s 0us/step\n"
          ]
        }
      ]
    },
    {
      "cell_type": "markdown",
      "source": [
        "**Get the Model Summary**"
      ],
      "metadata": {
        "id": "3ndzwg5SVmi2"
      }
    },
    {
      "cell_type": "code",
      "source": [
        "model.summary()"
      ],
      "metadata": {
        "colab": {
          "base_uri": "https://localhost:8080/"
        },
        "id": "vD13ZCpnVt22",
        "outputId": "dd65cf61-5400-4a46-8964-6e9f11e60d82"
      },
      "execution_count": 9,
      "outputs": [
        {
          "output_type": "stream",
          "name": "stdout",
          "text": [
            "Model: \"model\"\n",
            "__________________________________________________________________________________________________\n",
            " Layer (type)                Output Shape                 Param #   Connected to                  \n",
            "==================================================================================================\n",
            " input_2 (InputLayer)        [(None, 224, 224, 3)]        0         []                            \n",
            "                                                                                                  \n",
            " efficientnetb0 (Functional  (None, 7, 7, 1280)           4049571   ['input_2[0][0]']             \n",
            " )                                                                                                \n",
            "                                                                                                  \n",
            " dense (Dense)               (None, 7, 7, 1)              1281      ['efficientnetb0[0][0]']      \n",
            "                                                                                                  \n",
            " multiply (Multiply)         (None, 7, 7, 1280)           0         ['efficientnetb0[0][0]',      \n",
            "                                                                     'dense[0][0]']               \n",
            "                                                                                                  \n",
            " global_average_pooling2d (  (None, 1280)                 0         ['multiply[0][0]']            \n",
            " GlobalAveragePooling2D)                                                                          \n",
            "                                                                                                  \n",
            " dense_1 (Dense)             (None, 2)                    2562      ['global_average_pooling2d[0][\n",
            "                                                                    0]']                          \n",
            "                                                                                                  \n",
            "==================================================================================================\n",
            "Total params: 4053414 (15.46 MB)\n",
            "Trainable params: 4011391 (15.30 MB)\n",
            "Non-trainable params: 42023 (164.16 KB)\n",
            "__________________________________________________________________________________________________\n"
          ]
        }
      ]
    },
    {
      "cell_type": "markdown",
      "source": [
        "**Train the Model**"
      ],
      "metadata": {
        "id": "dDT9jcDgVxFE"
      }
    },
    {
      "cell_type": "code",
      "source": [
        "# Train the model\n",
        "epochs = 6\n",
        "hist = model.fit(train_dataset, epochs=epochs, validation_data=test_dataset)"
      ],
      "metadata": {
        "colab": {
          "base_uri": "https://localhost:8080/"
        },
        "id": "ueIC1dxOV3O4",
        "outputId": "0ce84b59-0dde-4d9e-dbc2-bb9a7983f171"
      },
      "execution_count": 10,
      "outputs": [
        {
          "output_type": "stream",
          "name": "stdout",
          "text": [
            "Epoch 1/6\n",
            "27/27 [==============================] - 778s 25s/step - loss: 1.0254 - accuracy: 0.1992 - val_loss: 1.3274 - val_accuracy: 0.0451\n",
            "Epoch 2/6\n",
            "27/27 [==============================] - 584s 22s/step - loss: 0.7800 - accuracy: 0.4584 - val_loss: 1.1232 - val_accuracy: 0.1028\n",
            "Epoch 3/6\n",
            "27/27 [==============================] - 543s 20s/step - loss: 0.6175 - accuracy: 0.6779 - val_loss: 0.9497 - val_accuracy: 0.2030\n",
            "Epoch 4/6\n",
            "27/27 [==============================] - 536s 20s/step - loss: 0.4828 - accuracy: 0.8480 - val_loss: 0.8078 - val_accuracy: 0.3784\n",
            "Epoch 5/6\n",
            "27/27 [==============================] - 526s 19s/step - loss: 0.3860 - accuracy: 0.9394 - val_loss: 0.6949 - val_accuracy: 0.5689\n",
            "Epoch 6/6\n",
            "27/27 [==============================] - 529s 20s/step - loss: 0.3117 - accuracy: 0.9720 - val_loss: 0.6025 - val_accuracy: 0.6942\n"
          ]
        }
      ]
    },
    {
      "cell_type": "markdown",
      "source": [
        "**Plot Training History**"
      ],
      "metadata": {
        "id": "YZkJD21oV6IG"
      }
    },
    {
      "cell_type": "code",
      "source": [
        "# Plot training history\n",
        "def plot_hist(hist):\n",
        "    plt.plot(hist.history[\"accuracy\"])\n",
        "    plt.plot(hist.history[\"val_accuracy\"])\n",
        "    plt.title(\"model accuracy\")\n",
        "    plt.ylabel(\"accuracy\")\n",
        "    plt.xlabel(\"epoch\")\n",
        "    plt.legend([\"train\", \"validation\"], loc=\"upper left\")\n",
        "    plt.show()\n",
        "\n",
        "plot_hist(hist)"
      ],
      "metadata": {
        "colab": {
          "base_uri": "https://localhost:8080/",
          "height": 472
        },
        "id": "c3h_LEvmWBZO",
        "outputId": "0ea7ddf2-c433-4209-8ecf-562531a8ce3d"
      },
      "execution_count": 11,
      "outputs": [
        {
          "output_type": "display_data",
          "data": {
            "text/plain": [
              "<Figure size 640x480 with 1 Axes>"
            ],
            "image/png": "[encoded data removed]"
          },
          "metadata": {}
        }
      ]
    },
    {
      "cell_type": "markdown",
      "source": [
        "### **Hyperparameter Tuning**\n",
        "\n",
        "I experimented with reducing the dropout rate because of the following:\n",
        "1. **Simple Models**: For simpler models with fewer parameters or layers, using low dropout rates (e.g., 0.1 or lower) may be sufficient for regularization without excessively reducing the model's capacity. I set the dropout rate to 0.1.\n",
        "2. **Small Datasets**: In scenarios where the dataset is relatively small, using low dropout rates can help prevent overfitting without overly constraining the model's learning capacity. Our dataset is also small.\n",
        "\n",
        "I reduced the number of epochs to 6 epochs to slow the convergence and prevent overfitting to allow for finer adjustments to the weights and biases during training.\n",
        "\n",
        "I also set the learning rate to 0.00005 for the following reasons:\n",
        "1. **Stability**: Lower learning rates often result in a more stable optimization process, as the updates to the parameters are smaller and less likely to lead to divergence.\n",
        "2. **Precise convergence**: With a lower learning rate, the optimization algorithm takes smaller steps towards the minimum point, potentially allowing it to find a more precise solution."
      ],
      "metadata": {
        "id": "LBgS2ybQSbhN"
      }
    },
    {
      "cell_type": "markdown",
      "source": [
        "### **References**\n",
        "\n",
        "1. https://github.com/keras-team/keras-io/blob/master/examples/vision/ipynb/image_classification_efficientnet_fine_tuning.ipynb\n",
        "2. https://github.com/keras-team/keras-io/tree/master\n",
        "3. https://arxiv.org/abs/1805.09501"
      ],
      "metadata": {
        "id": "H0xV5C4dSufc"
      }
    }
  ]
}